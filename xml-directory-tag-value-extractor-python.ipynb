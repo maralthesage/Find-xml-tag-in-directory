{
 "cells": [
  {
   "cell_type": "code",
   "execution_count": null,
   "id": "cbb1793b",
   "metadata": {},
   "outputs": [],
   "source": [
    "import os\n",
    "from bs4 import BeautifulSoup\n",
    "import glob\n",
    "\n",
    "## Remember you should save and load this script from the same folder as your data\n",
    "for filename in glob.glob(\"*.xml\"):\n",
    "    \n",
    "    with open(filename) as open_file:\n",
    "        \n",
    "        soup = BeautifulSoup(open_file, 'xml')  \n",
    "        \n",
    "        ## instead of 'Content' add the tag name inside your xml which you are interested in\n",
    "    for tag in soup.find_all('Content'):\n",
    "        \n",
    "        ## instead of 'LeafScan' add the tag value that you are looking for\n",
    "        if tag.get_text() == 'LeafScan':\n",
    "            \n",
    "#             print(filename) \n"
   ]
  },
  {
   "cell_type": "code",
   "execution_count": null,
   "id": "8753ff9a",
   "metadata": {},
   "outputs": [],
   "source": []
  }
 ],
 "metadata": {
  "kernelspec": {
   "display_name": "Python 3 (ipykernel)",
   "language": "python",
   "name": "python3"
  },
  "language_info": {
   "codemirror_mode": {
    "name": "ipython",
    "version": 3
   },
   "file_extension": ".py",
   "mimetype": "text/x-python",
   "name": "python",
   "nbconvert_exporter": "python",
   "pygments_lexer": "ipython3",
   "version": "3.9.7"
  }
 },
 "nbformat": 4,
 "nbformat_minor": 5
}

{
 "cells": [
  {
   "cell_type": "code",
   "execution_count": 19,
   "id": "dcfec008",
   "metadata": {},
   "outputs": [
    {
     "name": "stdout",
     "output_type": "stream",
     "text": [
      "60.xml\n",
      "160.xml\n",
      "171.xml\n",
      "66.xml\n",
      "67.xml\n",
      "98.xml\n",
      "38.xml\n",
      "122.xml\n",
      "27.xml\n",
      "131.xml\n",
      "156.xml\n",
      "40.xml\n",
      "182.xml\n",
      "68.xml\n",
      "169.xml\n",
      "50.xml\n",
      "192.xml\n",
      "178.xml\n",
      "53.xml\n",
      "185.xml\n"
     ]
    }
   ],
   "source": [
    "import os\n",
    "from bs4 import BeautifulSoup\n",
    "import glob\n",
    "\n",
    "## Remember you should save and load this script from the same folder as your data\n",
    "for filename in glob.glob(\"*.xml\"):\n",
    "    \n",
    "    with open(filename) as open_file:\n",
    "        \n",
    "        soup = BeautifulSoup(open_file, 'xml')  \n",
    "        \n",
    "        ## instead of 'Content' add the tag name inside your xml which you are interested in\n",
    "    for tag in soup.find_all('Content'):\n",
    "        \n",
    "        ## instead of 'LeafScan' add the tag value that you are looking for\n",
    "        if tag.get_text() == 'LeafScan':\n",
    "            \n",
    "            print(filename) \n"
   ]
  },
  {
   "cell_type": "code",
   "execution_count": null,
   "id": "fb3e49e7",
   "metadata": {},
   "outputs": [],
   "source": []
  }
 ],
 "metadata": {
  "kernelspec": {
   "display_name": "Python 3 (ipykernel)",
   "language": "python",
   "name": "python3"
  },
  "language_info": {
   "codemirror_mode": {
    "name": "ipython",
    "version": 3
   },
   "file_extension": ".py",
   "mimetype": "text/x-python",
   "name": "python",
   "nbconvert_exporter": "python",
   "pygments_lexer": "ipython3",
   "version": "3.9.7"
  }
 },
 "nbformat": 4,
 "nbformat_minor": 5
}
